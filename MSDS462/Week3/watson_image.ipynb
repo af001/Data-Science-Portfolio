{
  "nbformat": 4,
  "nbformat_minor": 0,
  "metadata": {
    "colab": {
      "name": "watson_image.ipynb",
      "provenance": [],
      "collapsed_sections": [],
      "include_colab_link": true
    },
    "kernelspec": {
      "name": "python3",
      "display_name": "Python 3"
    }
  },
  "cells": [
    {
      "cell_type": "markdown",
      "metadata": {
        "id": "view-in-github",
        "colab_type": "text"
      },
      "source": [
        "<a href=\"https://colab.research.google.com/github/af001/Predictive-Analytics/blob/master/MSDS462/Week3/watson_image.ipynb\" target=\"_parent\"><img src=\"https://colab.research.google.com/assets/colab-badge.svg\" alt=\"Open In Colab\"/></a>"
      ]
    },
    {
      "cell_type": "code",
      "metadata": {
        "id": "43qIiji2Ly5Y",
        "colab_type": "code",
        "colab": {
          "base_uri": "https://localhost:8080/",
          "height": 377
        },
        "outputId": "182aa640-0777-44e8-8dd9-62a9b9c2cfa6"
      },
      "source": [
        "# Install IBM Watson Python package\n",
        "#!pip install --upgrade watson-developer-cloud"
      ],
      "execution_count": 1,
      "outputs": [
        {
          "output_type": "stream",
          "text": [
            "Collecting watson-developer-cloud\n",
            "\u001b[?25l  Downloading https://files.pythonhosted.org/packages/fc/a5/a89fc49bd82eb6ea569e45b43383c28cd51b5076f43010dcc3331c137ff5/watson-developer-cloud-2.10.1.tar.gz (248kB)\n",
            "\u001b[K     |████████████████████████████████| 256kB 4.8MB/s \n",
            "\u001b[?25hRequirement already satisfied, skipping upgrade: requests<3.0,>=2.0 in /usr/local/lib/python3.6/dist-packages (from watson-developer-cloud) (2.21.0)\n",
            "Requirement already satisfied, skipping upgrade: python_dateutil>=2.5.3 in /usr/local/lib/python3.6/dist-packages (from watson-developer-cloud) (2.5.3)\n",
            "Collecting websocket-client==0.48.0 (from watson-developer-cloud)\n",
            "\u001b[?25l  Downloading https://files.pythonhosted.org/packages/8a/a1/72ef9aa26cfe1a75cee09fc1957e4723add9de098c15719416a1ee89386b/websocket_client-0.48.0-py2.py3-none-any.whl (198kB)\n",
            "\u001b[K     |████████████████████████████████| 204kB 41.3MB/s \n",
            "\u001b[?25hRequirement already satisfied, skipping upgrade: idna<2.9,>=2.5 in /usr/local/lib/python3.6/dist-packages (from requests<3.0,>=2.0->watson-developer-cloud) (2.8)\n",
            "Requirement already satisfied, skipping upgrade: urllib3<1.25,>=1.21.1 in /usr/local/lib/python3.6/dist-packages (from requests<3.0,>=2.0->watson-developer-cloud) (1.24.3)\n",
            "Requirement already satisfied, skipping upgrade: certifi>=2017.4.17 in /usr/local/lib/python3.6/dist-packages (from requests<3.0,>=2.0->watson-developer-cloud) (2019.9.11)\n",
            "Requirement already satisfied, skipping upgrade: chardet<3.1.0,>=3.0.2 in /usr/local/lib/python3.6/dist-packages (from requests<3.0,>=2.0->watson-developer-cloud) (3.0.4)\n",
            "Requirement already satisfied, skipping upgrade: six>=1.5 in /usr/local/lib/python3.6/dist-packages (from python_dateutil>=2.5.3->watson-developer-cloud) (1.12.0)\n",
            "Building wheels for collected packages: watson-developer-cloud\n",
            "  Building wheel for watson-developer-cloud (setup.py) ... \u001b[?25l\u001b[?25hdone\n",
            "  Created wheel for watson-developer-cloud: filename=watson_developer_cloud-2.10.1-cp36-none-any.whl size=252814 sha256=1e9870b16c4979e1fcb8791bf9b03949d12f535f688a7d586b969c86d30fd86c\n",
            "  Stored in directory: /root/.cache/pip/wheels/ea/a7/19/fac0a408a586265eb374005308a7553d4494ab41b2fd88f5bc\n",
            "Successfully built watson-developer-cloud\n",
            "Installing collected packages: websocket-client, watson-developer-cloud\n",
            "Successfully installed watson-developer-cloud-2.10.1 websocket-client-0.48.0\n"
          ],
          "name": "stdout"
        }
      ]
    },
    {
      "cell_type": "code",
      "metadata": {
        "id": "IXQlTMcbNbf6",
        "colab_type": "code",
        "colab": {
          "base_uri": "https://localhost:8080/",
          "height": 1000
        },
        "outputId": "816e0b58-dcd5-4e6d-9176-7eb891bc0bdc"
      },
      "source": [
        "import json\n",
        "from watson_developer_cloud import VisualRecognitionV3\n",
        "\n",
        "# Set API key from IBM dev console\n",
        "visual_recognition = VisualRecognitionV3(\n",
        "    '2018-03-19',\n",
        "    iam_apikey='your_api_key)\n",
        "\n",
        "# Specify url to fetch and classify\n",
        "url = 'https://nationalinterest.org/sites/default/files/styles/desktop__1260_/public/main_images/army_3.jpg'\n",
        "\n",
        "# Classify and view results\n",
        "classes_result = visual_recognition.classify(url=url).get_result()\n",
        "print(json.dumps(classes_result, indent=2))"
      ],
      "execution_count": 4,
      "outputs": [
        {
          "output_type": "stream",
          "text": [
            "/usr/local/lib/python3.6/dist-packages/ipykernel_launcher.py:6: DeprecationWarning: watson-developer-cloud moved to ibm-watson. To get updates, use the new package.\n",
            "  \n"
          ],
          "name": "stderr"
        },
        {
          "output_type": "stream",
          "text": [
            "{\n",
            "  \"images\": [\n",
            "    {\n",
            "      \"classifiers\": [\n",
            "        {\n",
            "          \"classifier_id\": \"default\",\n",
            "          \"name\": \"default\",\n",
            "          \"classes\": [\n",
            "            {\n",
            "              \"class\": \"soldier\",\n",
            "              \"score\": 0.77,\n",
            "              \"type_hierarchy\": \"/person/serviceman/soldier\"\n",
            "            },\n",
            "            {\n",
            "              \"class\": \"serviceman\",\n",
            "              \"score\": 0.782\n",
            "            },\n",
            "            {\n",
            "              \"class\": \"person\",\n",
            "              \"score\": 0.86\n",
            "            },\n",
            "            {\n",
            "              \"class\": \"military policeman\",\n",
            "              \"score\": 0.623,\n",
            "              \"type_hierarchy\": \"/person/military policeman\"\n",
            "            },\n",
            "            {\n",
            "              \"class\": \"weapon\",\n",
            "              \"score\": 0.54\n",
            "            },\n",
            "            {\n",
            "              \"class\": \"materiel\",\n",
            "              \"score\": 0.519\n",
            "            },\n",
            "            {\n",
            "              \"class\": \"soldier wearing beret\",\n",
            "              \"score\": 0.5,\n",
            "              \"type_hierarchy\": \"/person/serviceman/soldier/soldier wearing beret\"\n",
            "            },\n",
            "            {\n",
            "              \"class\": \"weaponry\",\n",
            "              \"score\": 0.797\n",
            "            },\n",
            "            {\n",
            "              \"class\": \"clothing\",\n",
            "              \"score\": 0.787\n",
            "            },\n",
            "            {\n",
            "              \"class\": \"olive green color\",\n",
            "              \"score\": 0.873\n",
            "            },\n",
            "            {\n",
            "              \"class\": \"sage green color\",\n",
            "              \"score\": 0.858\n",
            "            }\n",
            "          ]\n",
            "        }\n",
            "      ],\n",
            "      \"source_url\": \"https://nationalinterest.org/sites/default/files/styles/desktop__1260_/public/main_images/army_3.jpg\",\n",
            "      \"resolved_url\": \"https://nationalinterest.org/sites/default/files/styles/desktop__1260_/public/main_images/army_3.jpg\"\n",
            "    }\n",
            "  ],\n",
            "  \"images_processed\": 1,\n",
            "  \"custom_classes\": 0\n",
            "}\n"
          ],
          "name": "stdout"
        }
      ]
    }
  ]
}